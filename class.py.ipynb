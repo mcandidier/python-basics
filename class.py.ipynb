{
 "cells": [
  {
   "cell_type": "code",
   "execution_count": null,
   "metadata": {},
   "outputs": [],
   "source": [
    "class Person:\n",
    "    \"\"\" person object\n",
    "    \"\"\"\n",
    "    \n",
    "    def __init__(self, *args, **kwargs):\n",
    "        self.first_name = kwargs.get('first_name')\n",
    "        self.last_name = kwargs.get('last_name')\n",
    "\n",
    "    @property\n",
    "    def fullname(self):\n",
    "        return f\"{self.first_name} {self.last_name}\"\n",
    "    \n",
    "\n",
    "    \n",
    "if __name__ == '__main__':\n",
    "    \n",
    "    fname = input('Your first name?')\n",
    "    lname = input('Your last name?')\n",
    "    \n",
    "    \n",
    "    data = {'first_name': fname, 'last_name': lname}\n",
    "    person = Person(**data)\n",
    "    \n",
    "    print(f\"Hello my name is {person.fullname.upper}\")\n",
    "        "
   ]
  },
  {
   "cell_type": "code",
   "execution_count": null,
   "metadata": {},
   "outputs": [],
   "source": []
  },
  {
   "cell_type": "code",
   "execution_count": null,
   "metadata": {},
   "outputs": [],
   "source": []
  },
  {
   "cell_type": "code",
   "execution_count": null,
   "metadata": {},
   "outputs": [],
   "source": []
  }
 ],
 "metadata": {
  "kernelspec": {
   "display_name": "Python 3",
   "language": "python",
   "name": "python3"
  }
 },
 "nbformat": 4,
 "nbformat_minor": 2
}
