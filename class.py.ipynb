{
 "cells": [
  {
   "cell_type": "code",
   "execution_count": 13,
   "metadata": {},
   "outputs": [
    {
     "name": "stdout",
     "output_type": "stream",
     "text": [
      "hello my name is JAY SMITH\n"
     ]
    }
   ],
   "source": [
    "class Person:\n",
    "    \"\"\" person object\n",
    "    \"\"\"\n",
    "    \n",
    "    def __init__(self, *args, **kwargs):\n",
    "        self.first_name = kwargs.get('first_name')\n",
    "        self.last_name = kwargs.get('last_name')\n",
    "\n",
    "    @property\n",
    "    def fullname(self):\n",
    "        return f\"{self.first_name} {self.last_name}\"\n",
    "    \n",
    "\n",
    "    \n",
    "if __name__ == '__main__':\n",
    "    data = {'first_name': 'Jay', 'last_name': 'Smith'}\n",
    "    person = Person(**data)\n",
    "    print(f\"Hello my name is {person.fullname.upper\")\n",
    "        "
   ]
  },
  {
   "cell_type": "code",
   "execution_count": null,
   "metadata": {},
   "outputs": [],
   "source": []
  },
  {
   "cell_type": "code",
   "execution_count": null,
   "metadata": {},
   "outputs": [],
   "source": []
  },
  {
   "cell_type": "code",
   "execution_count": null,
   "metadata": {},
   "outputs": [],
   "source": []
  }
 ],
 "metadata": {
  "kernelspec": {
   "display_name": "Python 3",
   "language": "python",
   "name": "python3"
  },
  "language_info": {
   "codemirror_mode": {
    "name": "ipython",
    "version": 3
   },
   "file_extension": ".py",
   "mimetype": "text/x-python",
   "name": "python",
   "nbconvert_exporter": "python",
   "pygments_lexer": "ipython3",
   "version": "3.7.3"
  }
 },
 "nbformat": 4,
 "nbformat_minor": 2
}
